{
 "cells": [
  {
   "cell_type": "markdown",
   "metadata": {},
   "source": [
    "## My Solution \n",
    "\n",
    "Using TensorFlow, the objectif is to classify Images from [CIFRA-10 dataset](\"https://www.cs.toronto.edu/~kriz/cifar.html\").\n",
    "\n",
    "Here is the different steps contained in \"the dlnd_image_classification\" notebook :\n",
    "- Get and Explore the data from [CIFRA-10 dataset](\"https://www.cs.toronto.edu/~kriz/cifar.html\") : The dataset consists of airplanes, automobiles, birds, cats, deers, dogs, frogs, horses, ships end trucks.\n",
    "- Pre-process functions : Normalizing, One-Hot encoding, No need to randomize the images (the dataset is already randomized)\n",
    "Normalize the images : 2 solutions using np.linalg.norm => compute the norm of the matrix or divide by 255.\n",
    "\n",
    "- Build a convolutional layer :\n",
    "  - **Input** : Implement 3 tensors for the images, the labels and the drop out (neural_net_image_input, neural_net_label_input, neural_net_keep_prob_input)\n",
    "  - **Apply convolution and max pooling** using `tf.nn.conv2d`, `tf.nn.bias_add`, `tf.nn.relu` and `tf.nn.max_pool`.\n",
    "  - **Implement the flatten function** to change the dimension of x_tensor from a 4-D tensor to a 2-D tensor using `tf.reshape`.\n",
    "  - **Then fully connected layer** to x_tensor with the shape (Batch Size, num_outputs). XW + b and apply relu function.\n",
    "  - **The output layer** : apply a fully connected layer to x_tensor with the shape (Batch Size, num_outputs) without applying activation functions.\n",
    "\n",
    "**My Convolutional Model**\n",
    "  - Apply 1, 2, or 3 Convolution and Max Pool layers\n",
    "  - Apply a Flatten Layer\n",
    "  - Apply 1, 2, or 3 Fully Connected Layers and Apply TensorFlow's Dropout using keep_prob\n",
    "  - Apply an Output Layer\n",
    "  - Return the output\n",
    "\n",
    "**My Parameters**\n",
    "- Normalize using 255 (np.linalg.norm)\n",
    "- conv2d_maxpool => weights stddev = 0.1\n",
    "- fully_conn => weights stddev = 0.1\n",
    "- output => weights stddev = 0.1\n",
    "- conv_net => Play around with different number of outputs, kernel size and stride\n",
    "- Hyperparameters :\n",
    "  - epochs = 20\n",
    "  - batch_size = 128\n",
    "  - keep_probability = 0.85"
   ]
  },
  {
   "cell_type": "markdown",
   "metadata": {
    "collapsed": true
   },
   "source": [
    "# Image Classification\n",
    "In this project, you'll classify images from the [CIFAR-10 dataset](https://www.cs.toronto.edu/~kriz/cifar.html).  The dataset consists of airplanes, dogs, cats, and other objects. You'll preprocess the images, then train a convolutional neural network on all the samples. The images need to be normalized and the labels need to be one-hot encoded.  You'll get to apply what you learned and build a convolutional, max pooling, dropout, and fully connected layers.  At the end, you'll get to see your neural network's predictions on the sample images.\n",
    "## Get the Data\n",
    "Run the following cell to download the [CIFAR-10 dataset for python](https://www.cs.toronto.edu/~kriz/cifar-10-python.tar.gz)."
   ]
  },
  {
   "cell_type": "code",
   "execution_count": 1,
   "metadata": {},
   "outputs": [
    {
     "name": "stderr",
     "output_type": "stream",
     "text": [
      "CIFAR-10 Dataset: 171MB [00:22, 7.72MB/s]                              \n"
     ]
    },
    {
     "name": "stdout",
     "output_type": "stream",
     "text": [
      "All files found!\n"
     ]
    }
   ],
   "source": [
    "\"\"\"\n",
    "DON'T MODIFY ANYTHING IN THIS CELL THAT IS BELOW THIS LINE\n",
    "\"\"\"\n",
    "from urllib.request import urlretrieve\n",
    "from os.path import isfile, isdir\n",
    "from tqdm import tqdm\n",
    "import problem_unittests as tests\n",
    "import tarfile\n",
    "\n",
    "cifar10_dataset_folder_path = 'cifar-10-batches-py'\n",
    "\n",
    "# Use Floyd's cifar-10 dataset if present\n",
    "floyd_cifar10_location = '/input/cifar-10/python.tar.gz'\n",
    "if isfile(floyd_cifar10_location):\n",
    "    tar_gz_path = floyd_cifar10_location\n",
    "else:\n",
    "    tar_gz_path = 'cifar-10-python.tar.gz'\n",
    "\n",
    "class DLProgress(tqdm):\n",
    "    last_block = 0\n",
    "\n",
    "    def hook(self, block_num=1, block_size=1, total_size=None):\n",
    "        self.total = total_size\n",
    "        self.update((block_num - self.last_block) * block_size)\n",
    "        self.last_block = block_num\n",
    "\n",
    "if not isfile(tar_gz_path):\n",
    "    with DLProgress(unit='B', unit_scale=True, miniters=1, desc='CIFAR-10 Dataset') as pbar:\n",
    "        urlretrieve(\n",
    "            'https://www.cs.toronto.edu/~kriz/cifar-10-python.tar.gz',\n",
    "            tar_gz_path,\n",
    "            pbar.hook)\n",
    "\n",
    "if not isdir(cifar10_dataset_folder_path):\n",
    "    with tarfile.open(tar_gz_path) as tar:\n",
    "        tar.extractall()\n",
    "        tar.close()\n",
    "\n",
    "\n",
    "tests.test_folder_path(cifar10_dataset_folder_path)"
   ]
  },
  {
   "cell_type": "markdown",
   "metadata": {},
   "source": [
    "## Explore the Data\n",
    "The dataset is broken into batches to prevent your machine from running out of memory.  The CIFAR-10 dataset consists of 5 batches, named `data_batch_1`, `data_batch_2`, etc.. Each batch contains the labels and images that are one of the following:\n",
    "* airplane\n",
    "* automobile\n",
    "* bird\n",
    "* cat\n",
    "* deer\n",
    "* dog\n",
    "* frog\n",
    "* horse\n",
    "* ship\n",
    "* truck\n",
    "\n",
    "Understanding a dataset is part of making predictions on the data.  Play around with the code cell below by changing the `batch_id` and `sample_id`. The `batch_id` is the id for a batch (1-5). The `sample_id` is the id for a image and label pair in the batch.\n",
    "\n",
    "Ask yourself \"What are all possible labels?\", \"What is the range of values for the image data?\", \"Are the labels in order or random?\".  Answers to questions like these will help you preprocess the data and end up with better predictions."
   ]
  },
  {
   "cell_type": "code",
   "execution_count": 2,
   "metadata": {},
   "outputs": [
    {
     "name": "stdout",
     "output_type": "stream",
     "text": [
      "\n",
      "Stats of batch 1:\n",
      "Samples: 10000\n",
      "Label Counts: {0: 1005, 1: 974, 2: 1032, 3: 1016, 4: 999, 5: 937, 6: 1030, 7: 1001, 8: 1025, 9: 981}\n",
      "First 20 Labels: [6, 9, 9, 4, 1, 1, 2, 7, 8, 3, 4, 7, 7, 2, 9, 9, 9, 3, 2, 6]\n",
      "\n",
      "Example of Image 5:\n",
      "Image - Min Value: 0 Max Value: 252\n",
      "Image - Shape: (32, 32, 3)\n",
      "Label - Label Id: 1 Name: automobile\n"
     ]
    },
    {
     "data": {
      "image/png": "[encoded data removed]",
      "text/plain": [
       "<matplotlib.figure.Figure at 0x7f06552cca20>"
      ]
     },
     "metadata": {
      "image/png": {
       "height": 250,
       "width": 253
      }
     },
     "output_type": "display_data"
    }
   ],
   "source": [
    "%matplotlib inline\n",
    "%config InlineBackend.figure_format = 'retina'\n",
    "\n",
    "import helper\n",
    "import numpy as np\n",
    "\n",
    "# Explore the dataset\n",
    "batch_id = 1\n",
    "sample_id = 5\n",
    "helper.display_stats(cifar10_dataset_folder_path, batch_id, sample_id)"
   ]
  },
  {
   "cell_type": "markdown",
   "metadata": {},
   "source": [
    "## Implement Preprocess Functions\n",
    "### Normalize\n",
    "In the cell below, implement the `normalize` function to take in image data, `x`, and return it as a normalized Numpy array. The values should be in the range of 0 to 1, inclusive.  The return object should be the same shape as `x`."
   ]
  },
  {
   "cell_type": "code",
   "execution_count": 11,
   "metadata": {},
   "outputs": [
    {
     "name": "stdout",
     "output_type": "stream",
     "text": [
      "Tests Passed\n"
     ]
    }
   ],
   "source": [
    "def normalize(x):\n",
    "    \"\"\"\n",
    "    Normalize a list of sample image data in the range of 0 to 1\n",
    "    : x: List of image data.  The image shape is (32, 32, 3)\n",
    "    : return: Numpy array of normalize data\n",
    "    \"\"\"\n",
    "    # TODO: Implement Function\n",
    "    # np.linalg.norm => compute the norm of the matrix\n",
    "    return x / 255\n",
    "\n",
    "\n",
    "\"\"\"\n",
    "DON'T MODIFY ANYTHING IN THIS CELL THAT IS BELOW THIS LINE\n",
    "\"\"\"\n",
    "tests.test_normalize(normalize)"
   ]
  },
  {
   "cell_type": "markdown",
   "metadata": {},
   "source": [
    "# Focus on np.random.choice & np.linalg.norm\n",
    "\n",
    "np.random.choice(30,(1,2,2,2))\n",
    "\n",
    "- 30 => range for the numbers [0, 30]\n",
    "- (a,b,c,d) => \n",
    "    - a : number of matrix\n",
    "    - b, c, d = dimension of the matrix"
   ]
  },
  {
   "cell_type": "code",
   "execution_count": 12,
   "metadata": {},
   "outputs": [
    {
     "name": "stdout",
     "output_type": "stream",
     "text": [
      "[[[[19 20]\n",
      "   [16  3]]\n",
      "\n",
      "  [[20 29]\n",
      "   [17 11]]]]\n"
     ]
    }
   ],
   "source": [
    "test_numbers = np.random.choice(30,(1,2,2,2))\n",
    "print(test_numbers)"
   ]
  },
  {
   "cell_type": "code",
   "execution_count": 13,
   "metadata": {},
   "outputs": [
    {
     "name": "stdout",
     "output_type": "stream",
     "text": [
      "51.7397332811\n",
      "[[[[ 0.36722261  0.38655012]\n",
      "   [ 0.30924009  0.05798252]]\n",
      "\n",
      "  [[ 0.38655012  0.56049767]\n",
      "   [ 0.3285676   0.21260256]]]]\n"
     ]
    }
   ],
   "source": [
    "print (np.linalg.norm(test_numbers))\n",
    "print(test_numbers/np.linalg.norm(test_numbers))"
   ]
  },
  {
   "cell_type": "markdown",
   "metadata": {},
   "source": [
    "### One-hot encode\n",
    "Just like the previous code cell, you'll be implementing a function for preprocessing.  This time, you'll implement the `one_hot_encode` function. The input, `x`, are a list of labels.  Implement the function to return the list of labels as One-Hot encoded Numpy array.  The possible values for labels are 0 to 9. The one-hot encoding function should return the same encoding for each value between each call to `one_hot_encode`.  Make sure to save the map of encodings outside the function.\n",
    "\n",
    "Hint: Don't reinvent the wheel."
   ]
  },
  {
   "cell_type": "code",
   "execution_count": 14,
   "metadata": {},
   "outputs": [],
   "source": [
    "# Solution with sklearn\n",
    "#from sklearn import preprocessing\n",
    "# Create the encoder\n",
    "#lb = preprocessing.LabelBinarizer()\n",
    "\n",
    "# Here the encoder finds the classes and assigns one-hot vectors \n",
    "#lb.fit(labels)\n",
    "\n",
    "# And finally, transform the labels into one-hot encoded vectors\n",
    "#lb.transform(labels)"
   ]
  },
  {
   "cell_type": "code",
   "execution_count": 15,
   "metadata": {},
   "outputs": [
    {
     "name": "stdout",
     "output_type": "stream",
     "text": [
      "Tests Passed\n"
     ]
    }
   ],
   "source": [
    "def one_hot_encode(x):\n",
    "    \"\"\"\n",
    "    One hot encode a list of sample labels. Return a one-hot encoded vector for each label.\n",
    "    : x: List of sample Labels\n",
    "    : return: Numpy array of one-hot encoded labels\n",
    "    \"\"\"\n",
    "    \n",
    "    result = np.zeros((len(x), 10))\n",
    "    \n",
    "    for i,elt in enumerate(x):\n",
    "        result[i,elt] = 1\n",
    "    \n",
    "    # TODO: Implement Function\n",
    "    return result\n",
    "\n",
    "\"\"\"\n",
    "DON'T MODIFY ANYTHING IN THIS CELL THAT IS BELOW THIS LINE\n",
    "\"\"\"\n",
    "tests.test_one_hot_encode(one_hot_encode)"
   ]
  },
  {
   "cell_type": "markdown",
   "metadata": {},
   "source": [
    "### Randomize Data\n",
    "As you saw from exploring the data above, the order of the samples are randomized.  It doesn't hurt to randomize it again, but you don't need to for this dataset."
   ]
  },
  {
   "cell_type": "markdown",
   "metadata": {},
   "source": [
    "## Preprocess all the data and save it\n",
    "Running the code cell below will preprocess all the CIFAR-10 data and save it to file. The code below also uses 10% of the training data for validation."
   ]
  },
  {
   "cell_type": "code",
   "execution_count": 16,
   "metadata": {
    "collapsed": true
   },
   "outputs": [],
   "source": [
    "\"\"\"\n",
    "DON'T MODIFY ANYTHING IN THIS CELL\n",
    "\"\"\"\n",
    "# Preprocess Training, Validation, and Testing Data\n",
    "helper.preprocess_and_save_data(cifar10_dataset_folder_path, normalize, one_hot_encode)"
   ]
  },
  {
   "cell_type": "markdown",
   "metadata": {},
   "source": [
    "# Check Point\n",
    "This is your first checkpoint.  If you ever decide to come back to this notebook or have to restart the notebook, you can start from here.  The preprocessed data has been saved to disk."
   ]
  },
  {
   "cell_type": "code",
   "execution_count": 17,
   "metadata": {
    "collapsed": true
   },
   "outputs": [],
   "source": [
    "\"\"\"\n",
    "DON'T MODIFY ANYTHING IN THIS CELL\n",
    "\"\"\"\n",
    "import pickle\n",
    "import problem_unittests as tests\n",
    "import helper\n",
    "\n",
    "# Load the Preprocessed Validation data\n",
    "valid_features, valid_labels = pickle.load(open('preprocess_validation.p', mode='rb'))"
   ]
  },
  {
   "cell_type": "markdown",
   "metadata": {},
   "source": [
    "## Build the network\n",
    "For the neural network, you'll build each layer into a function.  Most of the code you've seen has been outside of functions. To test your code more thoroughly, we require that you put each layer in a function.  This allows us to give you better feedback and test for simple mistakes using our unittests before you submit your project.\n",
    "\n",
    ">**Note:** If you're finding it hard to dedicate enough time for this course each week, we've provided a small shortcut to this part of the project. In the next couple of problems, you'll have the option to use classes from the [TensorFlow Layers](https://www.tensorflow.org/api_docs/python/tf/layers) or [TensorFlow Layers (contrib)](https://www.tensorflow.org/api_guides/python/contrib.layers) packages to build each layer, except the layers you build in the \"Convolutional and Max Pooling Layer\" section.  TF Layers is similar to Keras's and TFLearn's abstraction to layers, so it's easy to pickup.\n",
    "\n",
    ">However, if you would like to get the most out of this course, try to solve all the problems _without_ using anything from the TF Layers packages. You **can** still use classes from other packages that happen to have the same name as ones you find in TF Layers! For example, instead of using the TF Layers version of the `conv2d` class, [tf.layers.conv2d](https://www.tensorflow.org/api_docs/python/tf/layers/conv2d), you would want to use the TF Neural Network version of `conv2d`, [tf.nn.conv2d](https://www.tensorflow.org/api_docs/python/tf/nn/conv2d). \n",
    "\n",
    "Let's begin!\n",
    "\n",
    "### Input\n",
    "The neural network needs to read the image data, one-hot encoded labels, and dropout keep probability. Implement the following functions\n",
    "* Implement `neural_net_image_input`\n",
    " * Return a [TF Placeholder](https://www.tensorflow.org/api_docs/python/tf/placeholder)\n",
    " * Set the shape using `image_shape` with batch size set to `None`.\n",
    " * Name the TensorFlow placeholder \"x\" using the TensorFlow `name` parameter in the [TF Placeholder](https://www.tensorflow.org/api_docs/python/tf/placeholder).\n",
    "* Implement `neural_net_label_input`\n",
    " * Return a [TF Placeholder](https://www.tensorflow.org/api_docs/python/tf/placeholder)\n",
    " * Set the shape using `n_classes` with batch size set to `None`.\n",
    " * Name the TensorFlow placeholder \"y\" using the TensorFlow `name` parameter in the [TF Placeholder](https://www.tensorflow.org/api_docs/python/tf/placeholder).\n",
    "* Implement `neural_net_keep_prob_input`\n",
    " * Return a [TF Placeholder](https://www.tensorflow.org/api_docs/python/tf/placeholder) for dropout keep probability.\n",
    " * Name the TensorFlow placeholder \"keep_prob\" using the TensorFlow `name` parameter in the [TF Placeholder](https://www.tensorflow.org/api_docs/python/tf/placeholder).\n",
    "\n",
    "These names will be used at the end of the project to load your saved model.\n",
    "\n",
    "Note: `None` for shapes in TensorFlow allow for a dynamic size."
   ]
  },
  {
   "cell_type": "code",
   "execution_count": 18,
   "metadata": {},
   "outputs": [
    {
     "name": "stdout",
     "output_type": "stream",
     "text": [
      "Image Input Tests Passed.\n",
      "Label Input Tests Passed.\n",
      "Keep Prob Tests Passed.\n"
     ]
    }
   ],
   "source": [
    "import tensorflow as tf\n",
    "\n",
    "def neural_net_image_input(image_shape):\n",
    "    \"\"\"\n",
    "    Return a Tensor for a batch of image input\n",
    "    : image_shape: Shape of the images\n",
    "    : return: Tensor for image input.\n",
    "    \"\"\"\n",
    "    # TODO: Implement Function\n",
    "    h,w,d = image_shape[0], image_shape[1], image_shape[2]\n",
    "    return tf.placeholder(tf.float32, shape=[None, h, w, d], name=\"x\")\n",
    "\n",
    "\n",
    "def neural_net_label_input(n_classes):\n",
    "    \"\"\"\n",
    "    Return a Tensor for a batch of label input\n",
    "    : n_classes: Number of classes\n",
    "    : return: Tensor for label input.\n",
    "    \"\"\"\n",
    "    # TODO: Implement Function\n",
    "    return tf.placeholder(tf.float32, shape=(None, n_classes), name=\"y\")\n",
    "\n",
    "\n",
    "def neural_net_keep_prob_input():\n",
    "    \"\"\"\n",
    "    Return a Tensor for keep probability\n",
    "    : return: Tensor for keep probability.\n",
    "    \"\"\"\n",
    "    # TODO: Implement Function\n",
    "    return tf.placeholder(tf.float32,name=\"keep_prob\")\n",
    "\n",
    "\n",
    "\n",
    "\"\"\"\n",
    "DON'T MODIFY ANYTHING IN THIS CELL THAT IS BELOW THIS LINE\n",
    "\"\"\"\n",
    "tf.reset_default_graph()\n",
    "tests.test_nn_image_inputs(neural_net_image_input)\n",
    "tests.test_nn_label_inputs(neural_net_label_input)\n",
    "tests.test_nn_keep_prob_inputs(neural_net_keep_prob_input)"
   ]
  },
  {
   "cell_type": "markdown",
   "metadata": {},
   "source": [
    "### Convolution and Max Pooling Layer\n",
    "Convolution layers have a lot of success with images. For this code cell, you should implement the function `conv2d_maxpool` to apply convolution then max pooling:\n",
    "* Create the weight and bias using `conv_ksize`, `conv_num_outputs` and the shape of `x_tensor`.\n",
    "* Apply a convolution to `x_tensor` using weight and `conv_strides`.\n",
    " * We recommend you use same padding, but you're welcome to use any padding.\n",
    "* Add bias\n",
    "* Add a nonlinear activation to the convolution.\n",
    "* Apply Max Pooling using `pool_ksize` and `pool_strides`.\n",
    " * We recommend you use same padding, but you're welcome to use any padding.\n",
    "\n",
    "**Note:** You **can't** use [TensorFlow Layers](https://www.tensorflow.org/api_docs/python/tf/layers) or [TensorFlow Layers (contrib)](https://www.tensorflow.org/api_guides/python/contrib.layers) for **this** layer, but you can still use TensorFlow's [Neural Network](https://www.tensorflow.org/api_docs/python/tf/nn) package. You may still use the shortcut option for all the **other** layers."
   ]
  },
  {
   "cell_type": "code",
   "execution_count": 20,
   "metadata": {
    "scrolled": false
   },
   "outputs": [
    {
     "name": "stdout",
     "output_type": "stream",
     "text": [
      "Tests Passed\n"
     ]
    }
   ],
   "source": [
    "def conv2d_maxpool(x_tensor, conv_num_outputs, conv_ksize, conv_strides, pool_ksize, pool_strides):\n",
    "    \"\"\"\n",
    "    Apply convolution then max pooling to x_tensor\n",
    "    :param x_tensor: TensorFlow Tensor\n",
    "    :param conv_num_outputs: Number of outputs for the convolutional layer\n",
    "    :param conv_ksize: kernal size 2-D Tuple for the convolutional layer\n",
    "    :param conv_strides: Stride 2-D Tuple for convolution\n",
    "    :param pool_ksize: kernal size 2-D Tuple for pool\n",
    "    :param pool_strides: Stride 2-D Tuple for pool\n",
    "    : return: A tensor that represents convolution and max pooling of x_tensor\n",
    "    \"\"\"\n",
    "    \n",
    "    # Initialize variables\n",
    "    batch_size, w, h, d = x_tensor.get_shape().as_list()\n",
    "    filter_size_height = conv_ksize[0]\n",
    "    filter_size_width = conv_ksize[1]\n",
    "    color_channels = d\n",
    "    k_output = conv_num_outputs\n",
    "    padding = \"SAME\"\n",
    "    #  TensorFlow uses a stride for each input dimension, [batch, input_height, input_width, input_channels].\n",
    "    # We are generally always going to set the stride for batch and input_channels \n",
    "    #(i.e. the first and fourth element in the strides array) to be 1.\n",
    "    c_strides = [1,conv_strides[0],conv_strides[1],1]\n",
    "    p_strides = [1,pool_strides[0],pool_strides[1],1]\n",
    "    # The ksize parameter is the size of the filter \n",
    "    # The ksize and strides parameters are structured as 4-element lists, with each element corresponding to \n",
    "    # a dimension of the input tensor ([batch, height, width, channels]).\n",
    "    p_ksize = [1,pool_ksize[0],pool_ksize[1],1]\n",
    "    \n",
    "    # Create the weight and bias using conv_ksize, conv_num_outputs and the shape of x_tensor.\n",
    "    weight = tf.Variable(tf.truncated_normal([filter_size_height, filter_size_width, color_channels, k_output], stddev=0.1))\n",
    "    bias = tf.Variable(tf.zeros(k_output))\n",
    "    \n",
    "    # Apply a convolution to x_tensor using weight and conv_strides.\n",
    "    conv_layer = tf.nn.conv2d(x_tensor,\n",
    "                              filter = weight,\n",
    "                              strides = c_strides,\n",
    "                              padding = padding\n",
    "                             )\n",
    "    \n",
    "    # Add bias\n",
    "    # The tf.nn.bias_add() function adds a 1-d bias to the last dimension in a matrix.\n",
    "    conv_layer = tf.nn.bias_add(conv_layer,\n",
    "                             bias\n",
    "                            )\n",
    "\n",
    "    # Add a nonlinear activation to the convolution.\n",
    "    conv_layer = tf.nn.relu(conv_layer)\n",
    "    \n",
    "    # Apply Max Pooling using pool_ksize and pool_strides.\n",
    "    # The benefit of the max pooling operation is to reduce the size of the input, \n",
    "    # and allow the neural network to focus on only the most important elements. \n",
    "    # Max pooling does this by only retaining the maximum value for each filtered area, \n",
    "    # and removing the remaining values.\n",
    "    conv_layer = tf.nn.max_pool(conv_layer,\n",
    "                       ksize = p_ksize,\n",
    "                       strides = p_strides,\n",
    "                       padding = padding\n",
    "                      )\n",
    "\n",
    "\n",
    "    # TODO: Implement Function\n",
    "    return conv_layer\n",
    "\n",
    "\n",
    "\"\"\"\n",
    "DON'T MODIFY ANYTHING IN THIS CELL THAT IS BELOW THIS LINE\n",
    "\"\"\"\n",
    "tests.test_con_pool(conv2d_maxpool)"
   ]
  },
  {
   "cell_type": "markdown",
   "metadata": {},
   "source": [
    "### Flatten Layer\n",
    "Implement the `flatten` function to change the dimension of `x_tensor` from a 4-D tensor to a 2-D tensor.  The output should be the shape (*Batch Size*, *Flattened Image Size*). Shortcut option: you can use classes from the [TensorFlow Layers](https://www.tensorflow.org/api_docs/python/tf/layers) or [TensorFlow Layers (contrib)](https://www.tensorflow.org/api_guides/python/contrib.layers) packages for this layer. For more of a challenge, only use other TensorFlow packages."
   ]
  },
  {
   "cell_type": "code",
   "execution_count": 21,
   "metadata": {},
   "outputs": [
    {
     "name": "stdout",
     "output_type": "stream",
     "text": [
      "Tests Passed\n"
     ]
    }
   ],
   "source": [
    "def flatten(x_tensor):\n",
    "    \"\"\"\n",
    "    Flatten x_tensor to (Batch Size, Flattened Image Size)\n",
    "    : x_tensor: A tensor of size (Batch Size, ...), where ... are the image dimensions.\n",
    "    : return: A tensor of size (Batch Size, Flattened Image Size).\n",
    "    \"\"\"\n",
    "    # TODO: Implement Function\n",
    "    batch_size, w, h, d = x_tensor.get_shape().as_list()\n",
    "    \n",
    "    return tf.reshape(tensor = x_tensor,\n",
    "                      shape = [-1, w * h * d])\n",
    "\n",
    "\n",
    "\"\"\"\n",
    "DON'T MODIFY ANYTHING IN THIS CELL THAT IS BELOW THIS LINE\n",
    "\"\"\"\n",
    "tests.test_flatten(flatten)"
   ]
  },
  {
   "cell_type": "markdown",
   "metadata": {},
   "source": [
    "### Fully-Connected Layer\n",
    "Implement the `fully_conn` function to apply a fully connected layer to `x_tensor` with the shape (*Batch Size*, *num_outputs*). Shortcut option: you can use classes from the [TensorFlow Layers](https://www.tensorflow.org/api_docs/python/tf/layers) or [TensorFlow Layers (contrib)](https://www.tensorflow.org/api_guides/python/contrib.layers) packages for this layer. For more of a challenge, only use other TensorFlow packages."
   ]
  },
  {
   "cell_type": "code",
   "execution_count": 22,
   "metadata": {},
   "outputs": [
    {
     "name": "stdout",
     "output_type": "stream",
     "text": [
      "Tests Passed\n"
     ]
    }
   ],
   "source": [
    "# A \"Fully Connected\" layer is a standard, non convolutional layer, where all inputs are connected to all \n",
    "# output neurons. This is also referred to as a \"dense\" layer\n",
    "\n",
    "def fully_conn(x_tensor, num_outputs):\n",
    "    \"\"\"\n",
    "    Apply a fully connected layer to x_tensor using weight and bias\n",
    "    : x_tensor: A 2-D tensor where the first dimension is batch size.\n",
    "    : num_outputs: The number of output that the new tensor should be.\n",
    "    : return: A 2-D tensor where the second dimension is num_outputs.\n",
    "    \"\"\"\n",
    "    # TODO: Implement Function\n",
    "    \n",
    "    # Initialize variables\n",
    "    batch_size, x_shape = x_tensor.get_shape().as_list()\n",
    "    \n",
    "    # Create the weight and bias\n",
    "    weight = tf.Variable(tf.truncated_normal([x_shape, num_outputs], stddev=0.1))\n",
    "    bias = tf.Variable(tf.zeros(num_outputs))\n",
    "    \n",
    "    # Fully connected layer - XW + b\n",
    "    fully_con = tf.matmul(x_tensor, weight)\n",
    "    fully_con = tf.add(fully_con, bias)\n",
    "    return tf.nn.relu(fully_con)\n",
    "\n",
    "\n",
    "\"\"\"\n",
    "DON'T MODIFY ANYTHING IN THIS CELL THAT IS BELOW THIS LINE\n",
    "\"\"\"\n",
    "tests.test_fully_conn(fully_conn)"
   ]
  },
  {
   "cell_type": "markdown",
   "metadata": {},
   "source": [
    "### Output Layer\n",
    "Implement the `output` function to apply a fully connected layer to `x_tensor` with the shape (*Batch Size*, *num_outputs*). Shortcut option: you can use classes from the [TensorFlow Layers](https://www.tensorflow.org/api_docs/python/tf/layers) or [TensorFlow Layers (contrib)](https://www.tensorflow.org/api_guides/python/contrib.layers) packages for this layer. For more of a challenge, only use other TensorFlow packages.\n",
    "\n",
    "**Note:** Activation, softmax, or cross entropy should **not** be applied to this."
   ]
  },
  {
   "cell_type": "code",
   "execution_count": 23,
   "metadata": {},
   "outputs": [
    {
     "name": "stdout",
     "output_type": "stream",
     "text": [
      "Tests Passed\n"
     ]
    }
   ],
   "source": [
    "def output(x_tensor, num_outputs):\n",
    "    \"\"\"\n",
    "    Apply a output layer to x_tensor using weight and bias\n",
    "    : x_tensor: A 2-D tensor where the first dimension is batch size.\n",
    "    : num_outputs: The number of output that the new tensor should be.\n",
    "    : return: A 2-D tensor where the second dimension is num_outputs.\n",
    "    \"\"\"\n",
    "    # TODO: Implement Function\n",
    "    # Initialize variables\n",
    "    batch_size, x_shape = x_tensor.get_shape().as_list()\n",
    "    \n",
    "    # Create the weight and bias\n",
    "    weight = tf.Variable(tf.truncated_normal([x_shape, num_outputs], stddev=0.1))\n",
    "    bias = tf.Variable(tf.zeros(num_outputs))\n",
    "    \n",
    "    # TODO: Implement Function\n",
    "    output = tf.matmul(x_tensor, weight)\n",
    "    output = tf.add(output, bias)\n",
    "    return output\n",
    "\n",
    "\n",
    "\"\"\"\n",
    "DON'T MODIFY ANYTHING IN THIS CELL THAT IS BELOW THIS LINE\n",
    "\"\"\"\n",
    "tests.test_output(output)"
   ]
  },
  {
   "cell_type": "markdown",
   "metadata": {},
   "source": [
    "### Create Convolutional Model\n",
    "Implement the function `conv_net` to create a convolutional neural network model. The function takes in a batch of images, `x`, and outputs logits.  Use the layers you created above to create this model:\n",
    "\n",
    "* Apply 1, 2, or 3 Convolution and Max Pool layers\n",
    "* Apply a Flatten Layer\n",
    "* Apply 1, 2, or 3 Fully Connected Layers\n",
    "* Apply an Output Layer\n",
    "* Return the output\n",
    "* Apply [TensorFlow's Dropout](https://www.tensorflow.org/api_docs/python/tf/nn/dropout) to one or more layers in the model using `keep_prob`. "
   ]
  },
  {
   "cell_type": "code",
   "execution_count": 79,
   "metadata": {},
   "outputs": [
    {
     "name": "stdout",
     "output_type": "stream",
     "text": [
      "[None, 16, 16, 12]\n",
      "[None, 8, 8, 24]\n",
      "[None, 4, 4, 48]\n",
      "[None, 768]\n",
      "[None, 192]\n",
      "[None, 48]\n",
      "[None, 24]\n",
      "[None, 10]\n",
      "[None, 16, 16, 12]\n",
      "[None, 8, 8, 24]\n",
      "[None, 4, 4, 48]\n",
      "[None, 768]\n",
      "[None, 192]\n",
      "[None, 48]\n",
      "[None, 24]\n",
      "[None, 10]\n",
      "Neural Network Built!\n"
     ]
    }
   ],
   "source": [
    "def conv_net(x, keep_prob):\n",
    "    \"\"\"\n",
    "    Create a convolutional neural network model\n",
    "    : x: Placeholder tensor that holds image data.\n",
    "    : keep_prob: Placeholder tensor that hold dropout keep probability.\n",
    "    : return: Tensor that represents logits\n",
    "    \"\"\"\n",
    "    # TODO: Apply 1, 2, or 3 Convolution and Max Pool layers\n",
    "    #    Play around with different number of outputs, kernel size and stride\n",
    "    # Function Definition from Above:\n",
    "    #    conv2d_maxpool(x_tensor, conv_num_outputs, conv_ksize, conv_strides, pool_ksize, pool_strides)\n",
    "    \n",
    "    # For the SAME :\n",
    "    # out_height = ceil(float(in_height) / float(strides[1]))\n",
    "    # out_width  = ceil(float(in_width) / float(strides[2]))\n",
    "\n",
    "    # Layer 1 - 32*32*3 to 16*16*12\n",
    "    conv_num_outputs1 = 12\n",
    "    conv_ksize1 = (4,4)\n",
    "    conv_strides1 = (1,1)\n",
    "    pool_ksize1 = (2,2)\n",
    "    pool_strides1 = (2,2)\n",
    "    conv_max_l1 = conv2d_maxpool(x, conv_num_outputs1, conv_ksize1, conv_strides1, pool_ksize1, pool_strides1)\n",
    "    print(conv_max_l1.get_shape().as_list())\n",
    "    \n",
    "    # Layer 2 - 16*16*12 to  8*8*24\n",
    "    conv_num_outputs2 = 24\n",
    "    conv_ksize2 = (4,4)\n",
    "    conv_strides2 = (1,1)\n",
    "    pool_ksize2 = (2,2)\n",
    "    pool_strides2 = (2,2)\n",
    "    conv_max_l2 = conv2d_maxpool(conv_max_l1, conv_num_outputs2, conv_ksize2, conv_strides2, pool_ksize2, pool_strides2)\n",
    "    print(conv_max_l2.get_shape().as_list())\n",
    "    \n",
    "    # Layer 3 - 8*8*24 to 4*4*48\n",
    "    conv_num_outputs3 = 48\n",
    "    conv_ksize3 = (4,4)\n",
    "    conv_strides3 = (1,1)\n",
    "    pool_ksize3 = (2,2)\n",
    "    pool_strides3 = (2,2)\n",
    "    conv_max_l3 = conv2d_maxpool(conv_max_l2, conv_num_outputs3, conv_ksize3, conv_strides3, pool_ksize3, pool_strides3)\n",
    "    print(conv_max_l3.get_shape().as_list())\n",
    "    \n",
    "    # TODO: Apply a Flatten Layer\n",
    "    # Function Definition from Above:\n",
    "    #   flatten(x_tensor)\n",
    "    # Flatten Layer - 4*4*48 to  768\n",
    "    flatten_layer = flatten(conv_max_l3)\n",
    "    print(flatten_layer.get_shape().as_list())\n",
    "\n",
    "    # TODO: Apply 1, 2, or 3 Fully Connected Layers\n",
    "    #    Play around with different number of outputs\n",
    "    # Function Definition from Above:\n",
    "    #   fully_conn(x_tensor, num_outputs)\n",
    "    \n",
    "    # Full Conn Layer 1 -  768 to 192\n",
    "    full_num_outputs1 = 192\n",
    "    full_conn1 = fully_conn(flatten_layer, full_num_outputs1)\n",
    "    full_conn1 = tf.nn.dropout(full_conn1, keep_prob)\n",
    "    print(full_conn1.get_shape().as_list())\n",
    "    \n",
    "    # Full Conn Layer 2 -  192 to 48\n",
    "    full_num_outputs2 = 48\n",
    "    full_conn2 = fully_conn(full_conn1, full_num_outputs2)\n",
    "    full_conn2 = tf.nn.dropout(full_conn2, keep_prob)\n",
    "    print(full_conn2.get_shape().as_list())\n",
    "    \n",
    "    # Full Conn Layer 3 -  to 24\n",
    "    full_num_outputs3 = 24\n",
    "    full_conn3 = fully_conn(full_conn2, full_num_outputs3)\n",
    "    full_conn3 = tf.nn.dropout(full_conn3, keep_prob)\n",
    "    print(full_conn3.get_shape().as_list())\n",
    "    \n",
    "    # TODO: Apply an Output Layer\n",
    "    #    Set this to the number of classes\n",
    "    # Function Definition from Above:\n",
    "    #   output(x_tensor, num_outputs)\n",
    "    \n",
    "    # Output Layer - class prediction - XXX to 10\n",
    "    num_outputs_final = 10\n",
    "    output_layer = output(full_conn3, num_outputs_final)\n",
    "    print(output_layer.get_shape().as_list())\n",
    "    \n",
    "    # TODO: return output\n",
    "    return output_layer\n",
    "\n",
    "\n",
    "\"\"\"\n",
    "DON'T MODIFY ANYTHING IN THIS CELL THAT IS BELOW THIS LINE\n",
    "\"\"\"\n",
    "\n",
    "##############################\n",
    "## Build the Neural Network ##\n",
    "##############################\n",
    "\n",
    "# Remove previous weights, bias, inputs, etc..\n",
    "tf.reset_default_graph()\n",
    "\n",
    "# Inputs\n",
    "x = neural_net_image_input((32, 32, 3))\n",
    "y = neural_net_label_input(10)\n",
    "keep_prob = neural_net_keep_prob_input()\n",
    "\n",
    "# Model\n",
    "logits = conv_net(x, keep_prob)\n",
    "\n",
    "# Name logits Tensor, so that is can be loaded from disk after training\n",
    "logits = tf.identity(logits, name='logits')\n",
    "\n",
    "# Loss and Optimizer\n",
    "cost = tf.reduce_mean(tf.nn.softmax_cross_entropy_with_logits(logits=logits, labels=y))\n",
    "optimizer = tf.train.AdamOptimizer().minimize(cost)\n",
    "\n",
    "# Accuracy\n",
    "correct_pred = tf.equal(tf.argmax(logits, 1), tf.argmax(y, 1))\n",
    "accuracy = tf.reduce_mean(tf.cast(correct_pred, tf.float32), name='accuracy')\n",
    "\n",
    "tests.test_conv_net(conv_net)"
   ]
  },
  {
   "cell_type": "markdown",
   "metadata": {},
   "source": [
    "## Train the Neural Network\n",
    "### Single Optimization\n",
    "Implement the function `train_neural_network` to do a single optimization.  The optimization should use `optimizer` to optimize in `session` with a `feed_dict` of the following:\n",
    "* `x` for image input\n",
    "* `y` for labels\n",
    "* `keep_prob` for keep probability for dropout\n",
    "\n",
    "This function will be called for each batch, so `tf.global_variables_initializer()` has already been called.\n",
    "\n",
    "Note: Nothing needs to be returned. This function is only optimizing the neural network."
   ]
  },
  {
   "cell_type": "code",
   "execution_count": 80,
   "metadata": {},
   "outputs": [
    {
     "name": "stdout",
     "output_type": "stream",
     "text": [
      "Tests Passed\n"
     ]
    }
   ],
   "source": [
    "def train_neural_network(session, optimizer, keep_probability, feature_batch, label_batch):\n",
    "    \"\"\"\n",
    "    Optimize the session on a batch of images and labels\n",
    "    : session: Current TensorFlow session\n",
    "    : optimizer: TensorFlow optimizer function\n",
    "    : keep_probability: keep probability\n",
    "    : feature_batch: Batch of Numpy image data\n",
    "    : label_batch: Batch of Numpy label data\n",
    "    \"\"\"\n",
    "    # TODO: Implement Function\n",
    "    session.run(optimizer, feed_dict={x: feature_batch, y: label_batch, keep_prob: keep_probability})\n",
    "\n",
    "\n",
    "\"\"\"\n",
    "DON'T MODIFY ANYTHING IN THIS CELL THAT IS BELOW THIS LINE\n",
    "\"\"\"\n",
    "tests.test_train_nn(train_neural_network)"
   ]
  },
  {
   "cell_type": "markdown",
   "metadata": {},
   "source": [
    "### Show Stats\n",
    "Implement the function `print_stats` to print loss and validation accuracy.  Use the global variables `valid_features` and `valid_labels` to calculate validation accuracy.  Use a keep probability of `1.0` to calculate the loss and validation accuracy."
   ]
  },
  {
   "cell_type": "code",
   "execution_count": 81,
   "metadata": {
    "collapsed": true
   },
   "outputs": [],
   "source": [
    "def print_stats(session, feature_batch, label_batch, cost, accuracy):\n",
    "    \"\"\"\n",
    "    Print information about loss and validation accuracy\n",
    "    : session: Current TensorFlow session\n",
    "    : feature_batch: Batch of Numpy image data\n",
    "    : label_batch: Batch of Numpy label data\n",
    "    : cost: TensorFlow cost function\n",
    "    : accuracy: TensorFlow accuracy function\n",
    "    \"\"\"\n",
    "    # TODO: Implement Function\n",
    "    # Calculate batch loss and accuracy\n",
    "    loss = session.run(cost, feed_dict={ x: feature_batch, y: label_batch, keep_prob: 1.})\n",
    "    valid_acc = session.run(accuracy, feed_dict={ x: valid_features, y: valid_labels, keep_prob: 1.})\n",
    "\n",
    "    print('Loss: {:>10.4f} Validation Accuracy: {:.6f}'.format(loss, valid_acc))"
   ]
  },
  {
   "cell_type": "markdown",
   "metadata": {},
   "source": [
    "### Hyperparameters\n",
    "Tune the following parameters:\n",
    "* Set `epochs` to the number of iterations until the network stops learning or start overfitting\n",
    "* Set `batch_size` to the highest number that your machine has memory for.  Most people set them to common sizes of memory:\n",
    " * 64\n",
    " * 128\n",
    " * 256\n",
    " * ...\n",
    "* Set `keep_probability` to the probability of keeping a node using dropout"
   ]
  },
  {
   "cell_type": "code",
   "execution_count": 92,
   "metadata": {
    "collapsed": true
   },
   "outputs": [],
   "source": [
    "# TODO: Tune Parameters\n",
    "epochs = 20\n",
    "batch_size = 128\n",
    "keep_probability = 0.85"
   ]
  },
  {
   "cell_type": "markdown",
   "metadata": {},
   "source": [
    "### Train on a Single CIFAR-10 Batch\n",
    "Instead of training the neural network on all the CIFAR-10 batches of data, let's use a single batch. This should save time while you iterate on the model to get a better accuracy.  Once the final validation accuracy is 50% or greater, run the model on all the data in the next section."
   ]
  },
  {
   "cell_type": "code",
   "execution_count": 93,
   "metadata": {},
   "outputs": [
    {
     "name": "stdout",
     "output_type": "stream",
     "text": [
      "Checking the Training on a Single Batch...\n",
      "Epoch  1, CIFAR-10 Batch 1:  Loss:     2.1599 Validation Accuracy: 0.206000\n",
      "Epoch  2, CIFAR-10 Batch 1:  Loss:     2.0858 Validation Accuracy: 0.352000\n",
      "Epoch  3, CIFAR-10 Batch 1:  Loss:     1.8675 Validation Accuracy: 0.382200\n",
      "Epoch  4, CIFAR-10 Batch 1:  Loss:     1.7683 Validation Accuracy: 0.419200\n",
      "Epoch  5, CIFAR-10 Batch 1:  Loss:     1.6557 Validation Accuracy: 0.442000\n",
      "Epoch  6, CIFAR-10 Batch 1:  Loss:     1.5386 Validation Accuracy: 0.456800\n",
      "Epoch  7, CIFAR-10 Batch 1:  Loss:     1.4809 Validation Accuracy: 0.481000\n",
      "Epoch  8, CIFAR-10 Batch 1:  Loss:     1.3868 Validation Accuracy: 0.484000\n",
      "Epoch  9, CIFAR-10 Batch 1:  Loss:     1.2909 Validation Accuracy: 0.487800\n",
      "Epoch 10, CIFAR-10 Batch 1:  Loss:     1.2007 Validation Accuracy: 0.507400\n",
      "Epoch 11, CIFAR-10 Batch 1:  Loss:     1.0996 Validation Accuracy: 0.490800\n",
      "Epoch 12, CIFAR-10 Batch 1:  Loss:     1.0240 Validation Accuracy: 0.516000\n",
      "Epoch 13, CIFAR-10 Batch 1:  Loss:     0.9059 Validation Accuracy: 0.527400\n",
      "Epoch 14, CIFAR-10 Batch 1:  Loss:     0.8640 Validation Accuracy: 0.537600\n",
      "Epoch 15, CIFAR-10 Batch 1:  Loss:     0.7520 Validation Accuracy: 0.539400\n",
      "Epoch 16, CIFAR-10 Batch 1:  Loss:     0.7578 Validation Accuracy: 0.534200\n",
      "Epoch 17, CIFAR-10 Batch 1:  Loss:     0.7343 Validation Accuracy: 0.536000\n",
      "Epoch 18, CIFAR-10 Batch 1:  Loss:     0.6193 Validation Accuracy: 0.560200\n",
      "Epoch 19, CIFAR-10 Batch 1:  Loss:     0.5658 Validation Accuracy: 0.554800\n",
      "Epoch 20, CIFAR-10 Batch 1:  Loss:     0.5362 Validation Accuracy: 0.553000\n"
     ]
    }
   ],
   "source": [
    "\"\"\"\n",
    "DON'T MODIFY ANYTHING IN THIS CELL\n",
    "\"\"\"\n",
    "print('Checking the Training on a Single Batch...')\n",
    "with tf.Session() as sess:\n",
    "    # Initializing the variables\n",
    "    sess.run(tf.global_variables_initializer())\n",
    "    \n",
    "    # Training cycle\n",
    "    for epoch in range(epochs):\n",
    "        batch_i = 1\n",
    "        for batch_features, batch_labels in helper.load_preprocess_training_batch(batch_i, batch_size):\n",
    "            train_neural_network(sess, optimizer, keep_probability, batch_features, batch_labels)\n",
    "        print('Epoch {:>2}, CIFAR-10 Batch {}:  '.format(epoch + 1, batch_i), end='')\n",
    "        print_stats(sess, batch_features, batch_labels, cost, accuracy)"
   ]
  },
  {
   "cell_type": "markdown",
   "metadata": {},
   "source": [
    "### Fully Train the Model\n",
    "Now that you got a good accuracy with a single CIFAR-10 batch, try it with all five batches."
   ]
  },
  {
   "cell_type": "code",
   "execution_count": 94,
   "metadata": {},
   "outputs": [
    {
     "name": "stdout",
     "output_type": "stream",
     "text": [
      "Training...\n",
      "Epoch  1, CIFAR-10 Batch 1:  Loss:     2.2148 Validation Accuracy: 0.219800\n",
      "Epoch  1, CIFAR-10 Batch 2:  Loss:     2.0077 Validation Accuracy: 0.306600\n",
      "Epoch  1, CIFAR-10 Batch 3:  Loss:     1.5923 Validation Accuracy: 0.332600\n",
      "Epoch  1, CIFAR-10 Batch 4:  Loss:     1.6020 Validation Accuracy: 0.378800\n",
      "Epoch  1, CIFAR-10 Batch 5:  Loss:     1.6750 Validation Accuracy: 0.416800\n",
      "Epoch  2, CIFAR-10 Batch 1:  Loss:     1.8253 Validation Accuracy: 0.438400\n",
      "Epoch  2, CIFAR-10 Batch 2:  Loss:     1.7337 Validation Accuracy: 0.445000\n",
      "Epoch  2, CIFAR-10 Batch 3:  Loss:     1.2056 Validation Accuracy: 0.453600\n",
      "Epoch  2, CIFAR-10 Batch 4:  Loss:     1.3818 Validation Accuracy: 0.467000\n",
      "Epoch  2, CIFAR-10 Batch 5:  Loss:     1.4108 Validation Accuracy: 0.485000\n",
      "Epoch  3, CIFAR-10 Batch 1:  Loss:     1.5980 Validation Accuracy: 0.512600\n",
      "Epoch  3, CIFAR-10 Batch 2:  Loss:     1.4257 Validation Accuracy: 0.492000\n",
      "Epoch  3, CIFAR-10 Batch 3:  Loss:     1.0367 Validation Accuracy: 0.516800\n",
      "Epoch  3, CIFAR-10 Batch 4:  Loss:     1.2379 Validation Accuracy: 0.529400\n",
      "Epoch  3, CIFAR-10 Batch 5:  Loss:     1.2026 Validation Accuracy: 0.549800\n",
      "Epoch  4, CIFAR-10 Batch 1:  Loss:     1.3940 Validation Accuracy: 0.534000\n",
      "Epoch  4, CIFAR-10 Batch 2:  Loss:     1.2453 Validation Accuracy: 0.554800\n",
      "Epoch  4, CIFAR-10 Batch 3:  Loss:     1.0302 Validation Accuracy: 0.533200\n",
      "Epoch  4, CIFAR-10 Batch 4:  Loss:     1.1362 Validation Accuracy: 0.561200\n",
      "Epoch  4, CIFAR-10 Batch 5:  Loss:     1.0121 Validation Accuracy: 0.579800\n",
      "Epoch  5, CIFAR-10 Batch 1:  Loss:     1.2655 Validation Accuracy: 0.565000\n",
      "Epoch  5, CIFAR-10 Batch 2:  Loss:     1.0091 Validation Accuracy: 0.574400\n",
      "Epoch  5, CIFAR-10 Batch 3:  Loss:     0.8463 Validation Accuracy: 0.575400\n",
      "Epoch  5, CIFAR-10 Batch 4:  Loss:     1.0518 Validation Accuracy: 0.582600\n",
      "Epoch  5, CIFAR-10 Batch 5:  Loss:     0.9046 Validation Accuracy: 0.587200\n",
      "Epoch  6, CIFAR-10 Batch 1:  Loss:     1.0535 Validation Accuracy: 0.601600\n",
      "Epoch  6, CIFAR-10 Batch 2:  Loss:     0.9259 Validation Accuracy: 0.593000\n",
      "Epoch  6, CIFAR-10 Batch 3:  Loss:     0.8020 Validation Accuracy: 0.574200\n",
      "Epoch  6, CIFAR-10 Batch 4:  Loss:     0.9042 Validation Accuracy: 0.606400\n",
      "Epoch  6, CIFAR-10 Batch 5:  Loss:     0.7879 Validation Accuracy: 0.610000\n",
      "Epoch  7, CIFAR-10 Batch 1:  Loss:     1.0013 Validation Accuracy: 0.615200\n",
      "Epoch  7, CIFAR-10 Batch 2:  Loss:     0.7768 Validation Accuracy: 0.609200\n",
      "Epoch  7, CIFAR-10 Batch 3:  Loss:     0.6836 Validation Accuracy: 0.600000\n",
      "Epoch  7, CIFAR-10 Batch 4:  Loss:     0.8514 Validation Accuracy: 0.611600\n",
      "Epoch  7, CIFAR-10 Batch 5:  Loss:     0.6969 Validation Accuracy: 0.625800\n",
      "Epoch  8, CIFAR-10 Batch 1:  Loss:     0.8763 Validation Accuracy: 0.626400\n",
      "Epoch  8, CIFAR-10 Batch 2:  Loss:     0.7208 Validation Accuracy: 0.612400\n",
      "Epoch  8, CIFAR-10 Batch 3:  Loss:     0.6442 Validation Accuracy: 0.615600\n",
      "Epoch  8, CIFAR-10 Batch 4:  Loss:     0.6982 Validation Accuracy: 0.628600\n",
      "Epoch  8, CIFAR-10 Batch 5:  Loss:     0.6512 Validation Accuracy: 0.637400\n",
      "Epoch  9, CIFAR-10 Batch 1:  Loss:     0.8447 Validation Accuracy: 0.636000\n",
      "Epoch  9, CIFAR-10 Batch 2:  Loss:     0.6365 Validation Accuracy: 0.621800\n",
      "Epoch  9, CIFAR-10 Batch 3:  Loss:     0.6358 Validation Accuracy: 0.629000\n",
      "Epoch  9, CIFAR-10 Batch 4:  Loss:     0.7323 Validation Accuracy: 0.628400\n",
      "Epoch  9, CIFAR-10 Batch 5:  Loss:     0.6330 Validation Accuracy: 0.636600\n",
      "Epoch 10, CIFAR-10 Batch 1:  Loss:     0.7158 Validation Accuracy: 0.639400\n",
      "Epoch 10, CIFAR-10 Batch 2:  Loss:     0.5558 Validation Accuracy: 0.627000\n",
      "Epoch 10, CIFAR-10 Batch 3:  Loss:     0.5414 Validation Accuracy: 0.640800\n",
      "Epoch 10, CIFAR-10 Batch 4:  Loss:     0.6575 Validation Accuracy: 0.613200\n",
      "Epoch 10, CIFAR-10 Batch 5:  Loss:     0.5266 Validation Accuracy: 0.646000\n",
      "Epoch 11, CIFAR-10 Batch 1:  Loss:     0.6363 Validation Accuracy: 0.648400\n",
      "Epoch 11, CIFAR-10 Batch 2:  Loss:     0.5306 Validation Accuracy: 0.646200\n",
      "Epoch 11, CIFAR-10 Batch 3:  Loss:     0.4698 Validation Accuracy: 0.655400\n",
      "Epoch 11, CIFAR-10 Batch 4:  Loss:     0.5689 Validation Accuracy: 0.613000\n",
      "Epoch 11, CIFAR-10 Batch 5:  Loss:     0.4295 Validation Accuracy: 0.651200\n",
      "Epoch 12, CIFAR-10 Batch 1:  Loss:     0.5718 Validation Accuracy: 0.653400\n",
      "Epoch 12, CIFAR-10 Batch 2:  Loss:     0.4668 Validation Accuracy: 0.631800\n",
      "Epoch 12, CIFAR-10 Batch 3:  Loss:     0.4472 Validation Accuracy: 0.629200\n",
      "Epoch 12, CIFAR-10 Batch 4:  Loss:     0.4993 Validation Accuracy: 0.618400\n",
      "Epoch 12, CIFAR-10 Batch 5:  Loss:     0.4525 Validation Accuracy: 0.640600\n",
      "Epoch 13, CIFAR-10 Batch 1:  Loss:     0.4940 Validation Accuracy: 0.656800\n",
      "Epoch 13, CIFAR-10 Batch 2:  Loss:     0.4746 Validation Accuracy: 0.629200\n",
      "Epoch 13, CIFAR-10 Batch 3:  Loss:     0.4346 Validation Accuracy: 0.627000\n",
      "Epoch 13, CIFAR-10 Batch 4:  Loss:     0.4792 Validation Accuracy: 0.648400\n",
      "Epoch 13, CIFAR-10 Batch 5:  Loss:     0.3394 Validation Accuracy: 0.650000\n",
      "Epoch 14, CIFAR-10 Batch 1:  Loss:     0.4395 Validation Accuracy: 0.658800\n",
      "Epoch 14, CIFAR-10 Batch 2:  Loss:     0.4207 Validation Accuracy: 0.648600\n",
      "Epoch 14, CIFAR-10 Batch 3:  Loss:     0.3654 Validation Accuracy: 0.628400\n",
      "Epoch 14, CIFAR-10 Batch 4:  Loss:     0.4240 Validation Accuracy: 0.653000\n",
      "Epoch 14, CIFAR-10 Batch 5:  Loss:     0.2948 Validation Accuracy: 0.664800\n",
      "Epoch 15, CIFAR-10 Batch 1:  Loss:     0.4441 Validation Accuracy: 0.665000\n",
      "Epoch 15, CIFAR-10 Batch 2:  Loss:     0.3750 Validation Accuracy: 0.657400\n",
      "Epoch 15, CIFAR-10 Batch 3:  Loss:     0.3195 Validation Accuracy: 0.641200\n",
      "Epoch 15, CIFAR-10 Batch 4:  Loss:     0.3817 Validation Accuracy: 0.642400\n",
      "Epoch 15, CIFAR-10 Batch 5:  Loss:     0.2572 Validation Accuracy: 0.662800\n",
      "Epoch 16, CIFAR-10 Batch 1:  Loss:     0.3641 Validation Accuracy: 0.663400\n",
      "Epoch 16, CIFAR-10 Batch 2:  Loss:     0.3244 Validation Accuracy: 0.657800\n",
      "Epoch 16, CIFAR-10 Batch 3:  Loss:     0.2581 Validation Accuracy: 0.645800\n",
      "Epoch 16, CIFAR-10 Batch 4:  Loss:     0.4175 Validation Accuracy: 0.651600\n",
      "Epoch 16, CIFAR-10 Batch 5:  Loss:     0.2472 Validation Accuracy: 0.669000\n",
      "Epoch 17, CIFAR-10 Batch 1:  Loss:     0.3610 Validation Accuracy: 0.663200\n",
      "Epoch 17, CIFAR-10 Batch 2:  Loss:     0.3546 Validation Accuracy: 0.656800\n",
      "Epoch 17, CIFAR-10 Batch 3:  Loss:     0.2447 Validation Accuracy: 0.660600\n",
      "Epoch 17, CIFAR-10 Batch 4:  Loss:     0.3467 Validation Accuracy: 0.647400\n",
      "Epoch 17, CIFAR-10 Batch 5:  Loss:     0.2794 Validation Accuracy: 0.667600\n",
      "Epoch 18, CIFAR-10 Batch 1:  Loss:     0.2817 Validation Accuracy: 0.661800\n",
      "Epoch 18, CIFAR-10 Batch 2:  Loss:     0.3141 Validation Accuracy: 0.653400\n",
      "Epoch 18, CIFAR-10 Batch 3:  Loss:     0.2150 Validation Accuracy: 0.648800\n",
      "Epoch 18, CIFAR-10 Batch 4:  Loss:     0.2880 Validation Accuracy: 0.651800\n",
      "Epoch 18, CIFAR-10 Batch 5:  Loss:     0.2135 Validation Accuracy: 0.667400\n",
      "Epoch 19, CIFAR-10 Batch 1:  Loss:     0.2647 Validation Accuracy: 0.653000\n",
      "Epoch 19, CIFAR-10 Batch 2:  Loss:     0.2632 Validation Accuracy: 0.665000\n",
      "Epoch 19, CIFAR-10 Batch 3:  Loss:     0.1981 Validation Accuracy: 0.660000\n",
      "Epoch 19, CIFAR-10 Batch 4:  Loss:     0.2413 Validation Accuracy: 0.639800\n",
      "Epoch 19, CIFAR-10 Batch 5:  Loss:     0.1960 Validation Accuracy: 0.666400\n",
      "Epoch 20, CIFAR-10 Batch 1:  Loss:     0.2392 Validation Accuracy: 0.648000\n",
      "Epoch 20, CIFAR-10 Batch 2:  Loss:     0.2472 Validation Accuracy: 0.669200\n",
      "Epoch 20, CIFAR-10 Batch 3:  Loss:     0.1753 Validation Accuracy: 0.661200\n",
      "Epoch 20, CIFAR-10 Batch 4:  Loss:     0.2707 Validation Accuracy: 0.649600\n",
      "Epoch 20, CIFAR-10 Batch 5:  Loss:     0.1338 Validation Accuracy: 0.665800\n"
     ]
    }
   ],
   "source": [
    "\"\"\"\n",
    "DON'T MODIFY ANYTHING IN THIS CELL\n",
    "\"\"\"\n",
    "save_model_path = './image_classification'\n",
    "\n",
    "print('Training...')\n",
    "with tf.Session() as sess:\n",
    "    # Initializing the variables\n",
    "    sess.run(tf.global_variables_initializer())\n",
    "    \n",
    "    # Training cycle\n",
    "    for epoch in range(epochs):\n",
    "        # Loop over all batches\n",
    "        n_batches = 5\n",
    "        for batch_i in range(1, n_batches + 1):\n",
    "            for batch_features, batch_labels in helper.load_preprocess_training_batch(batch_i, batch_size):\n",
    "                train_neural_network(sess, optimizer, keep_probability, batch_features, batch_labels)\n",
    "            print('Epoch {:>2}, CIFAR-10 Batch {}:  '.format(epoch + 1, batch_i), end='')\n",
    "            print_stats(sess, batch_features, batch_labels, cost, accuracy)\n",
    "            \n",
    "    # Save Model\n",
    "    saver = tf.train.Saver()\n",
    "    save_path = saver.save(sess, save_model_path)"
   ]
  },
  {
   "cell_type": "markdown",
   "metadata": {},
   "source": [
    "# Checkpoint\n",
    "The model has been saved to disk.\n",
    "## Test Model\n",
    "Test your model against the test dataset.  This will be your final accuracy. You should have an accuracy greater than 50%. If you don't, keep tweaking the model architecture and parameters."
   ]
  },
  {
   "cell_type": "code",
   "execution_count": 95,
   "metadata": {},
   "outputs": [
    {
     "name": "stdout",
     "output_type": "stream",
     "text": [
      "Testing Accuracy: 0.6656447784810127\n",
      "\n"
     ]
    },
    {
     "data": {
      "image/png": "[encoded data removed]",
      "text/plain": [
       "<matplotlib.figure.Figure at 0x7f06b8baff28>"
      ]
     },
     "metadata": {
      "image/png": {
       "height": 319,
       "width": 355
      }
     },
     "output_type": "display_data"
    }
   ],
   "source": [
    "\"\"\"\n",
    "DON'T MODIFY ANYTHING IN THIS CELL\n",
    "\"\"\"\n",
    "%matplotlib inline\n",
    "%config InlineBackend.figure_format = 'retina'\n",
    "\n",
    "import tensorflow as tf\n",
    "import pickle\n",
    "import helper\n",
    "import random\n",
    "\n",
    "# Set batch size if not already set\n",
    "try:\n",
    "    if batch_size:\n",
    "        pass\n",
    "except NameError:\n",
    "    batch_size = 64\n",
    "\n",
    "save_model_path = './image_classification'\n",
    "n_samples = 4\n",
    "top_n_predictions = 3\n",
    "\n",
    "def test_model():\n",
    "    \"\"\"\n",
    "    Test the saved model against the test dataset\n",
    "    \"\"\"\n",
    "\n",
    "    test_features, test_labels = pickle.load(open('preprocess_test.p', mode='rb'))\n",
    "    loaded_graph = tf.Graph()\n",
    "\n",
    "    with tf.Session(graph=loaded_graph) as sess:\n",
    "        # Load model\n",
    "        loader = tf.train.import_meta_graph(save_model_path + '.meta')\n",
    "        loader.restore(sess, save_model_path)\n",
    "\n",
    "        # Get Tensors from loaded model\n",
    "        loaded_x = loaded_graph.get_tensor_by_name('x:0')\n",
    "        loaded_y = loaded_graph.get_tensor_by_name('y:0')\n",
    "        loaded_keep_prob = loaded_graph.get_tensor_by_name('keep_prob:0')\n",
    "        loaded_logits = loaded_graph.get_tensor_by_name('logits:0')\n",
    "        loaded_acc = loaded_graph.get_tensor_by_name('accuracy:0')\n",
    "        \n",
    "        # Get accuracy in batches for memory limitations\n",
    "        test_batch_acc_total = 0\n",
    "        test_batch_count = 0\n",
    "        \n",
    "        for test_feature_batch, test_label_batch in helper.batch_features_labels(test_features, test_labels, batch_size):\n",
    "            test_batch_acc_total += sess.run(\n",
    "                loaded_acc,\n",
    "                feed_dict={loaded_x: test_feature_batch, loaded_y: test_label_batch, loaded_keep_prob: 1.0})\n",
    "            test_batch_count += 1\n",
    "\n",
    "        print('Testing Accuracy: {}\\n'.format(test_batch_acc_total/test_batch_count))\n",
    "\n",
    "        # Print Random Samples\n",
    "        random_test_features, random_test_labels = tuple(zip(*random.sample(list(zip(test_features, test_labels)), n_samples)))\n",
    "        random_test_predictions = sess.run(\n",
    "            tf.nn.top_k(tf.nn.softmax(loaded_logits), top_n_predictions),\n",
    "            feed_dict={loaded_x: random_test_features, loaded_y: random_test_labels, loaded_keep_prob: 1.0})\n",
    "        helper.display_image_predictions(random_test_features, random_test_labels, random_test_predictions)\n",
    "\n",
    "\n",
    "test_model()"
   ]
  },
  {
   "cell_type": "markdown",
   "metadata": {},
   "source": [
    "## Why 50-80% Accuracy?\n",
    "You might be wondering why you can't get an accuracy any higher. First things first, 50% isn't bad for a simple CNN.  Pure guessing would get you 10% accuracy. However, you might notice people are getting scores [well above 80%](http://rodrigob.github.io/are_we_there_yet/build/classification_datasets_results.html#43494641522d3130).  That's because we haven't taught you all there is to know about neural networks. We still need to cover a few more techniques.\n",
    "## Submitting This Project\n",
    "When submitting this project, make sure to run all the cells before saving the notebook.  Save the notebook file as \"dlnd_image_classification.ipynb\" and save it as a HTML file under \"File\" -> \"Download as\".  Include the \"helper.py\" and \"problem_unittests.py\" files in your submission."
   ]
  }
 ],
 "metadata": {
  "anaconda-cloud": {},
  "kernelspec": {
   "display_name": "Python 3",
   "language": "python",
   "name": "python3"
  },
  "language_info": {
   "codemirror_mode": {
    "name": "ipython",
    "version": 3
   },
   "file_extension": ".py",
   "mimetype": "text/x-python",
   "name": "python",
   "nbconvert_exporter": "python",
   "pygments_lexer": "ipython3",
   "version": "3.5.2"
  },
  "widgets": {
   "state": {},
   "version": "1.1.2"
  }
 },
 "nbformat": 4,
 "nbformat_minor": 1
}
